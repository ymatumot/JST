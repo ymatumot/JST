{
 "cells": [
  {
   "cell_type": "markdown",
   "metadata": {
    "id": "MsGJV3Xu9gxK"
   },
   "source": [
    "\n"
   ]
  },
  {
   "cell_type": "markdown",
   "metadata": {
    "id": "Ox4BpKux9dHW"
   },
   "source": [
    "# プレアデス星団のHR図"
   ]
  },
  {
   "cell_type": "markdown",
   "metadata": {},
   "source": [
    "## 準備\n",
    "下の\"Open in Colab\"アイコンをクリックして、本ページ内容のjupyter notebookをColab上で実行できるようにしよう。\n",
    "\n",
    "[![Open In Colab](https://colab.research.google.com/assets/colab-badge.svg)](http://colab.research.google.com/github/ymatumot/JST/blob/main/Hipp_HR.ipynb)\n",
    "\n",
    "Colab上で実行しようとすると、最初に\n",
    "\n",
    "![warning](./img/colab_warning.png)\n",
    "\n",
    "のような警告が出る。問題ないので、「このまま実行」を選択してください。"
   ]
  },
  {
   "cell_type": "markdown",
   "metadata": {},
   "source": [
    "## 解析例"
   ]
  },
  {
   "cell_type": "code",
   "execution_count": 1,
   "metadata": {
    "colab": {
     "base_uri": "https://localhost:8080/",
     "height": 283
    },
    "id": "IhqmxV309pjQ",
    "outputId": "835637c3-8307-4d67-8806-6ff0c1fc07cf"
   },
   "outputs": [
    {
     "data": {
      "image/png": "[encoded data removed]",
      "text/plain": [
       "<Figure size 432x288 with 1 Axes>"
      ]
     },
     "metadata": {
      "needs_background": "light"
     },
     "output_type": "display_data"
    }
   ],
   "source": [
    "import numpy as np\n",
    "import matplotlib.pyplot as plt\n",
    "import pandas as pd\n",
    "df=pd.read_csv('HP.csv')\n",
    "df['B-V'].max()\n",
    "df2=df[(df['RA'] > 60) & (df['RA'] < 70) & (df['DE'] > 10) & (df['DE'] < 20)]\n",
    "#plt.plot(df['B-V'],df['Vmag'],'o')\n",
    "#plt.ylim([15,0])\n",
    "df2.plot.scatter(x='B-V',y='Vmag',ylim=[15,0])\n",
    "plt.show()"
   ]
  }
 ],
 "metadata": {
  "colab": {
   "name": "Hipp_HR のコピー",
   "provenance": []
  },
  "kernelspec": {
   "display_name": "Python 3 (ipykernel)",
   "language": "python",
   "name": "python3"
  },
  "language_info": {
   "codemirror_mode": {
    "name": "ipython",
    "version": 3
   },
   "file_extension": ".py",
   "mimetype": "text/x-python",
   "name": "python",
   "nbconvert_exporter": "python",
   "pygments_lexer": "ipython3",
   "version": "3.8.4"
  }
 },
 "nbformat": 4,
 "nbformat_minor": 4
}
